{
 "cells": [
  {
   "cell_type": "code",
   "execution_count": 17,
   "id": "45792b09",
   "metadata": {},
   "outputs": [],
   "source": [
    "import os\n",
    "\n",
    "cidade = 'vicosa'\n",
    "caminho_arquivos_cidade = os.getcwd() + '\\\\base-dados\\\\' + cidade\n",
    "caminho_medidas_refinadas = caminho_arquivos_cidade + '\\\\' + cidade + '_medidas_refinadas.csv'\n",
    "caminho_medidas = caminho_arquivos_cidade + '\\\\' + cidade + '_medidas.csv'\n",
    "caminho_grafo = caminho_arquivos_cidade + '\\\\' + cidade + '.graphml'\n",
    "caminho_dados_policia = os.getcwd() + '\\\\dados_cidades_projeto\\\\DadosRefinados_' + cidade + '.csv'"
   ]
  },
  {
   "cell_type": "code",
   "execution_count": 18,
   "id": "05a5f98f",
   "metadata": {},
   "outputs": [
    {
     "name": "stdout",
     "output_type": "stream",
     "text": [
      "v. ocorrencia / v. total = 0.22199488491048594\n",
      "o. total / v. total = 0.6849104859335038\n"
     ]
    }
   ],
   "source": [
    "import osmnx as ox\n",
    "import networkx as nx\n",
    "import pandas as pd\n",
    "import haversine as hs\n",
    "\n",
    "df = pd.read_csv(caminho_medidas)\n",
    "vertices_com_ocorrencia = df[df['quantidade_ocorrencia'] > 0]\n",
    "quantidade_total_ocorrencia = df['quantidade_ocorrencia'].sum()\n",
    "quantidade_total_no = df.shape[0]\n",
    "quantidade_vertices_com_ocorrencia = vertices_com_ocorrencia.shape[0]\n",
    "quantidade_vertices_com_ocorrencia\n",
    "print('v. ocorrencia / v. total = ' + str(quantidade_vertices_com_ocorrencia / quantidade_total_no))\n",
    "print('o. total / v. total = ' + str(quantidade_total_ocorrencia / quantidade_total_no))\n",
    "\n"
   ]
  }
 ],
 "metadata": {
  "kernelspec": {
   "display_name": "Python 3 (ipykernel)",
   "language": "python",
   "name": "python3"
  },
  "language_info": {
   "codemirror_mode": {
    "name": "ipython",
    "version": 3
   },
   "file_extension": ".py",
   "mimetype": "text/x-python",
   "name": "python",
   "nbconvert_exporter": "python",
   "pygments_lexer": "ipython3",
   "version": "3.11.5"
  }
 },
 "nbformat": 4,
 "nbformat_minor": 5
}
