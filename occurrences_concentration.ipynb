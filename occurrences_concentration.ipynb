{
 "cells": [
  {
   "cell_type": "code",
   "execution_count": null,
   "id": "45792b09",
   "metadata": {},
   "outputs": [],
   "source": [
    "import os\n",
    "\n",
    "city = 'alfenas'\n",
    "path_city_files = os.getcwd() + '\\\\database\\\\' + city\n",
    "path_refined_measures = path_city_files + '\\\\' + city + '_medidas_refinadas.csv'\n",
    "path_measures = path_city_files + '\\\\' + city + '_medidas.csv'\n",
    "path_graph = path_city_files + '\\\\' + city + '.graphml'\n",
    "path_police_data = os.getcwd() + '\\\\cities-data\\\\DadosRefinados_' + city + '.csv'"
   ]
  },
  {
   "cell_type": "code",
   "execution_count": null,
   "id": "05a5f98f",
   "metadata": {},
   "outputs": [
    {
     "name": "stdout",
     "output_type": "stream",
     "text": [
      "v. ocorrencia / v. total = 0.22199488491048594\n",
      "o. total / v. total = 0.6849104859335038\n"
     ]
    }
   ],
   "source": [
    "import osmnx as ox\n",
    "import networkx as nx\n",
    "import pandas as pd\n",
    "import haversine as hs\n",
    "\n",
    "df = pd.read_csv(path_measures)\n",
    "vertices_com_ocorrencia = df[df['quantidade_ocorrencia'] > 0]\n",
    "quantidade_total_ocorrencia = df['quantidade_ocorrencia'].sum()\n",
    "quantidade_total_no = df.shape[0]\n",
    "quantidade_vertices_com_ocorrencia = vertices_com_ocorrencia.shape[0]\n",
    "quantidade_vertices_com_ocorrencia\n",
    "print('v. ocorrencia / v. total = ' + str(quantidade_vertices_com_ocorrencia / quantidade_total_no))\n",
    "print('o. total / v. total = ' + str(quantidade_total_ocorrencia / quantidade_total_no))\n",
    "\n"
   ]
  }
 ],
 "metadata": {
  "kernelspec": {
   "display_name": "Python 3 (ipykernel)",
   "language": "python",
   "name": "python3"
  },
  "language_info": {
   "codemirror_mode": {
    "name": "ipython",
    "version": 3
   },
   "file_extension": ".py",
   "mimetype": "text/x-python",
   "name": "python",
   "nbconvert_exporter": "python",
   "pygments_lexer": "ipython3",
   "version": "3.11.5"
  }
 },
 "nbformat": 4,
 "nbformat_minor": 5
}
